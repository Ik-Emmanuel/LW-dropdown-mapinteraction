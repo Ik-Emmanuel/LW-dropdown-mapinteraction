{
 "cells": [
  {
   "cell_type": "markdown",
   "id": "0bbf494b-9382-4c43-aaf3-804e68af470c",
   "metadata": {
    "tags": []
   },
   "source": [
    "# Area Dropdown Notebook"
   ]
  },
  {
   "cell_type": "markdown",
   "id": "a88f477b-339d-405c-823e-c207bdadba42",
   "metadata": {},
   "source": [
    "\n"
   ]
  },
  {
   "cell_type": "markdown",
   "id": "948a8ff6-6f8d-4ec9-839c-667521374c8b",
   "metadata": {},
   "source": [
    "*Looking for: \n",
    "- every output from the Area selection needs to have a generic name aka 'boundary'\n",
    "- simplified dropdown selection \n",
    "- Draw an area not working\n",
    "- Get the past and present plots working \n",
    "- Get statistics from each plot*\n",
    "- map at time1 and time2. display in a a singe row of 3. map time1, map time2 AND map showing difference highlighted in red (also show a table of what became what) "
   ]
  },
  {
   "cell_type": "markdown",
   "id": "997def18-3ddd-402c-879b-535324ee5487",
   "metadata": {
    "tags": []
   },
   "source": [
    "# 0. Load initial functions and documentation"
   ]
  },
  {
   "cell_type": "code",
   "execution_count": 1,
   "id": "db66dbc3-5c4c-4bd8-94cf-2eba4810e1e3",
   "metadata": {
    "tags": []
   },
   "outputs": [
    {
     "data": {
      "application/vnd.jupyter.widget-view+json": {
       "model_id": "526c2b1b48fd44b99aac1057462914b8",
       "version_major": 2,
       "version_minor": 0
      },
      "text/plain": [
       "HTML(value='\\n    <p> <b style=\\'color:black\\'> List of available commands for selecting geographic sites for …"
      ]
     },
     "metadata": {},
     "output_type": "display_data"
    }
   ],
   "source": [
    "import notebook_dropdowns\n",
    "notebook_dropdowns.helper()"
   ]
  },
  {
   "cell_type": "markdown",
   "id": "574ff267-a377-420b-8e55-4f6819a51d54",
   "metadata": {
    "tags": []
   },
   "source": [
    "# 1. AREA selection - (AREA_SELECTION)"
   ]
  },
  {
   "cell_type": "code",
   "execution_count": 2,
   "id": "a81b0149-fcbd-4e1d-a270-9585b1c6e02e",
   "metadata": {
    "tags": []
   },
   "outputs": [
    {
     "data": {
      "application/vnd.jupyter.widget-view+json": {
       "model_id": "d4effeb1846648fe9f82248b5a3ad7fa",
       "version_major": 2,
       "version_minor": 0
      },
      "text/plain": [
       "Dropdown(description='Area Selection Type', layout=Layout(width='40%'), options=('1. User uploads', '2. DRAW A…"
      ]
     },
     "metadata": {},
     "output_type": "display_data"
    },
    {
     "data": {
      "application/vnd.jupyter.widget-view+json": {
       "model_id": "0bca232f59854564ac8647c8b2cf264c",
       "version_major": 2,
       "version_minor": 0
      },
      "text/plain": [
       "Dropdown(description='Choose Vector', layout=Layout(width='40%'), options=('bbnp boundary', 'blackmts boundary…"
      ]
     },
     "metadata": {},
     "output_type": "display_data"
    },
    {
     "data": {
      "application/vnd.jupyter.widget-view+json": {
       "model_id": "d499f6fd4f04444abcda1669f3226397",
       "version_major": 2,
       "version_minor": 0
      },
      "text/plain": [
       "Dropdown(description='Select a polygon', layout=Layout(width='40%'), options=(), style=DescriptionStyle(descri…"
      ]
     },
     "metadata": {},
     "output_type": "display_data"
    },
    {
     "data": {
      "application/vnd.jupyter.widget-view+json": {
       "model_id": "c63484ca93ef4cd78c60011c4ccdf2ab",
       "version_major": 2,
       "version_minor": 0
      },
      "text/plain": [
       "Button(description='Reset', style=ButtonStyle())"
      ]
     },
     "metadata": {},
     "output_type": "display_data"
    }
   ],
   "source": [
    "# initialization of site selection #\n",
    "polygon_select = notebook_dropdowns.area_selection()"
   ]
  },
  {
   "cell_type": "markdown",
   "id": "50c473e0-29a3-4c43-9c5d-a1af6d26848a",
   "metadata": {
    "tags": []
   },
   "source": [
    "## A. Obtain and inspect the selected site its and metadata if it has as a dataframe and assign to a variable"
   ]
  },
  {
   "cell_type": "code",
   "execution_count": 19,
   "id": "a308815d-aaa6-4cbd-98d6-8664913fb293",
   "metadata": {
    "tags": []
   },
   "outputs": [
    {
     "data": {
      "text/html": [
       "<div>\n",
       "<style scoped>\n",
       "    .dataframe tbody tr th:only-of-type {\n",
       "        vertical-align: middle;\n",
       "    }\n",
       "\n",
       "    .dataframe tbody tr th {\n",
       "        vertical-align: top;\n",
       "    }\n",
       "\n",
       "    .dataframe thead th {\n",
       "        text-align: right;\n",
       "    }\n",
       "</style>\n",
       "<table border=\"1\" class=\"dataframe\">\n",
       "  <thead>\n",
       "    <tr style=\"text-align: right;\">\n",
       "      <th></th>\n",
       "      <th>objectid</th>\n",
       "      <th>sssi_name</th>\n",
       "      <th>sssi_id</th>\n",
       "      <th>sssi_code</th>\n",
       "      <th>first_noti</th>\n",
       "      <th>last_notif</th>\n",
       "      <th>confirmed</th>\n",
       "      <th>last_edite</th>\n",
       "      <th>registered</th>\n",
       "      <th>cartesian_</th>\n",
       "      <th>spherical_</th>\n",
       "      <th>centre_x</th>\n",
       "      <th>centre_y</th>\n",
       "      <th>osmm_date</th>\n",
       "      <th>type</th>\n",
       "      <th>status</th>\n",
       "      <th>shape_area</th>\n",
       "      <th>shape_len</th>\n",
       "      <th>geometry</th>\n",
       "      <th>fid</th>\n",
       "    </tr>\n",
       "  </thead>\n",
       "  <tbody>\n",
       "    <tr>\n",
       "      <th>4</th>\n",
       "      <td>12042</td>\n",
       "      <td>Aber Geirch</td>\n",
       "      <td>1436.0</td>\n",
       "      <td>31WTB</td>\n",
       "      <td>1997-11-06</td>\n",
       "      <td>NaT</td>\n",
       "      <td>1998-07-20</td>\n",
       "      <td>2006-09-11</td>\n",
       "      <td>Spherical</td>\n",
       "      <td>18.377183</td>\n",
       "      <td>18.31</td>\n",
       "      <td>226966.895362</td>\n",
       "      <td>340369.918666</td>\n",
       "      <td>2006-06-15</td>\n",
       "      <td>Biological</td>\n",
       "      <td>Confirmed</td>\n",
       "      <td>NaN</td>\n",
       "      <td>NaN</td>\n",
       "      <td>POLYGON ((227431.7 340124.19, 227417.9 340104....</td>\n",
       "      <td>4</td>\n",
       "    </tr>\n",
       "  </tbody>\n",
       "</table>\n",
       "</div>"
      ],
      "text/plain": [
       "   objectid    sssi_name  sssi_id sssi_code first_noti last_notif  confirmed  \\\n",
       "4     12042  Aber Geirch   1436.0     31WTB 1997-11-06        NaT 1998-07-20   \n",
       "\n",
       "  last_edite registered  cartesian_  spherical_       centre_x       centre_y  \\\n",
       "4 2006-09-11  Spherical   18.377183       18.31  226966.895362  340369.918666   \n",
       "\n",
       "   osmm_date        type     status  shape_area  shape_len  \\\n",
       "4 2006-06-15  Biological  Confirmed         NaN        NaN   \n",
       "\n",
       "                                            geometry  fid  \n",
       "4  POLYGON ((227431.7 340124.19, 227417.9 340104....    4  "
      ]
     },
     "execution_count": 19,
     "metadata": {},
     "output_type": "execute_result"
    }
   ],
   "source": [
    "site_df = notebook_dropdowns.view_selected_polygon(polygon_select)\n",
    "site_df#\n",
    "# or just run \"notebook_dropdowns.view_selected_polygon(polygon_select)\"  to view only\n"
   ]
  },
  {
   "cell_type": "markdown",
   "id": "acd12751-17e6-4d11-ad82-25a3ba421e20",
   "metadata": {
    "tags": []
   },
   "source": [
    "## B. Check the site boundary visually and by area"
   ]
  },
  {
   "cell_type": "code",
   "execution_count": null,
   "id": "0f9e6795-0189-40b8-a3da-598cfd37d424",
   "metadata": {
    "tags": []
   },
   "outputs": [],
   "source": [
    "#  plot selected vector/polygon to confirm\n",
    "notebook_dropdowns.plot_selected_polygon(polygon_select)\n"
   ]
  },
  {
   "cell_type": "markdown",
   "id": "c0fb4f71-9337-4dfa-bac2-e55ad5a91f97",
   "metadata": {
    "tags": []
   },
   "source": [
    "## C. Visualise and pick site from map\n",
    "\n",
    "- if area_selection() above was set to 2. Draw an Area, map_and_select_area(polygon_select) will automatically detect and show map to draw area , else if shows map to click and select site/area"
   ]
  },
  {
   "cell_type": "code",
   "execution_count": 27,
   "id": "83254198-a0c0-4fd6-a06b-4eff0bdfcb44",
   "metadata": {
    "tags": []
   },
   "outputs": [
    {
     "name": "stdout",
     "output_type": "stream",
     "text": [
      "Generating Interactive Map ...\n"
     ]
    },
    {
     "data": {
      "application/vnd.jupyter.widget-view+json": {
       "model_id": "21a6056c4e8942e896ac49080bc76fcf",
       "version_major": 2,
       "version_minor": 0
      },
      "text/plain": [
       "IntProgress(value=0)"
      ]
     },
     "metadata": {},
     "output_type": "display_data"
    },
    {
     "data": {
      "application/vnd.jupyter.widget-view+json": {
       "model_id": "562b03fc33ea4fdb9cd6decc6fbaf475",
       "version_major": 2,
       "version_minor": 0
      },
      "text/plain": [
       "VBox(children=(HTML(value='<b> Draw an area on the map below within the highlighted boundry, to select it.</b>…"
      ]
     },
     "metadata": {},
     "output_type": "display_data"
    }
   ],
   "source": [
    "#  map to select or draw site\n",
    "notebook_dropdowns.map_and_select_area(polygon_select)"
   ]
  },
  {
   "cell_type": "markdown",
   "id": "dfa1a0e1-7e4b-4da2-9e97-d2da1ef6cb91",
   "metadata": {},
   "source": [
    "## D. Method to obtained selected area to be used anywhere in the notebook\n",
    "\n",
    "- This method gets selected area as either a geopandas dataframe or a GeoJSON dict of s single site (if site was drawn on map)"
   ]
  },
  {
   "cell_type": "code",
   "execution_count": 22,
   "id": "74d411b9-e8e5-482e-a12b-afeeb70424ea",
   "metadata": {
    "tags": []
   },
   "outputs": [
    {
     "data": {
      "text/html": [
       "<div>\n",
       "<style scoped>\n",
       "    .dataframe tbody tr th:only-of-type {\n",
       "        vertical-align: middle;\n",
       "    }\n",
       "\n",
       "    .dataframe tbody tr th {\n",
       "        vertical-align: top;\n",
       "    }\n",
       "\n",
       "    .dataframe thead th {\n",
       "        text-align: right;\n",
       "    }\n",
       "</style>\n",
       "<table border=\"1\" class=\"dataframe\">\n",
       "  <thead>\n",
       "    <tr style=\"text-align: right;\">\n",
       "      <th></th>\n",
       "      <th>objectid</th>\n",
       "      <th>sssi_name</th>\n",
       "      <th>sssi_id</th>\n",
       "      <th>sssi_code</th>\n",
       "      <th>first_noti</th>\n",
       "      <th>last_notif</th>\n",
       "      <th>confirmed</th>\n",
       "      <th>last_edite</th>\n",
       "      <th>registered</th>\n",
       "      <th>cartesian_</th>\n",
       "      <th>spherical_</th>\n",
       "      <th>centre_x</th>\n",
       "      <th>centre_y</th>\n",
       "      <th>osmm_date</th>\n",
       "      <th>type</th>\n",
       "      <th>status</th>\n",
       "      <th>shape_area</th>\n",
       "      <th>shape_len</th>\n",
       "      <th>geometry</th>\n",
       "      <th>fid</th>\n",
       "    </tr>\n",
       "  </thead>\n",
       "  <tbody>\n",
       "    <tr>\n",
       "      <th>4</th>\n",
       "      <td>12042</td>\n",
       "      <td>Aber Geirch</td>\n",
       "      <td>1436.0</td>\n",
       "      <td>31WTB</td>\n",
       "      <td>1997-11-06</td>\n",
       "      <td>NaT</td>\n",
       "      <td>1998-07-20</td>\n",
       "      <td>2006-09-11</td>\n",
       "      <td>Spherical</td>\n",
       "      <td>18.377183</td>\n",
       "      <td>18.31</td>\n",
       "      <td>226966.895362</td>\n",
       "      <td>340369.918666</td>\n",
       "      <td>2006-06-15</td>\n",
       "      <td>Biological</td>\n",
       "      <td>Confirmed</td>\n",
       "      <td>NaN</td>\n",
       "      <td>NaN</td>\n",
       "      <td>POLYGON ((227431.7 340124.19, 227417.9 340104....</td>\n",
       "      <td>4</td>\n",
       "    </tr>\n",
       "  </tbody>\n",
       "</table>\n",
       "</div>"
      ],
      "text/plain": [
       "   objectid    sssi_name  sssi_id sssi_code first_noti last_notif  confirmed  \\\n",
       "4     12042  Aber Geirch   1436.0     31WTB 1997-11-06        NaT 1998-07-20   \n",
       "\n",
       "  last_edite registered  cartesian_  spherical_       centre_x       centre_y  \\\n",
       "4 2006-09-11  Spherical   18.377183       18.31  226966.895362  340369.918666   \n",
       "\n",
       "   osmm_date        type     status  shape_area  shape_len  \\\n",
       "4 2006-06-15  Biological  Confirmed         NaN        NaN   \n",
       "\n",
       "                                            geometry  fid  \n",
       "4  POLYGON ((227431.7 340124.19, 227417.9 340104....    4  "
      ]
     },
     "execution_count": 22,
     "metadata": {},
     "output_type": "execute_result"
    }
   ],
   "source": [
    "#  display what selected area is\n",
    "selected_polygon = notebook_dropdowns.polygon_selected()\n",
    "selected_polygon\n"
   ]
  },
  {
   "cell_type": "markdown",
   "id": "2ee49b48-2a4c-4ec9-bea8-3845c894d210",
   "metadata": {},
   "source": [
    "## E.  Visualize site selection at any point\n",
    "\n",
    "- one site has been selected and set , at any point in the notebook site can be visualsed on a map for confirmation "
   ]
  },
  {
   "cell_type": "code",
   "execution_count": 23,
   "id": "83e32dd5-fd40-43ef-a076-e3d8b4b5c2c5",
   "metadata": {
    "tags": []
   },
   "outputs": [
    {
     "data": {
      "application/vnd.jupyter.widget-view+json": {
       "model_id": "e5403ea8cff746a693757f42d46bc943",
       "version_major": 2,
       "version_minor": 0
      },
      "text/plain": [
       "Map(center=[np.float64(52.93250289038325), np.float64(-4.575641922205672)], controls=(ZoomControl(options=['po…"
      ]
     },
     "metadata": {},
     "output_type": "display_data"
    }
   ],
   "source": [
    "#  visualize selected option \n",
    "notebook_dropdowns.visualize_selected_area()"
   ]
  },
  {
   "cell_type": "markdown",
   "id": "d480c655-3249-480d-a475-b155aab653f7",
   "metadata": {},
   "source": [
    "## F. Apply buffer options to selection"
   ]
  },
  {
   "cell_type": "markdown",
   "id": "bb4e4941-ef86-4364-9508-3cfef8ebabef",
   "metadata": {},
   "source": [
    "#### F1.1 Buffer Including Site Selected"
   ]
  },
  {
   "cell_type": "code",
   "execution_count": 8,
   "id": "e6ecb0dd-02bc-4ebd-a6bf-f4c8a49f1cb0",
   "metadata": {
    "tags": []
   },
   "outputs": [
    {
     "data": {
      "application/vnd.jupyter.widget-view+json": {
       "model_id": "8f9f38e64efe4ef8b9872d3ed40cae00",
       "version_major": 2,
       "version_minor": 0
      },
      "text/plain": [
       "VBox(children=(RadioButtons(description='Buffer Distance:', layout=Layout(width='300px'), options=(('100m', 10…"
      ]
     },
     "metadata": {},
     "output_type": "display_data"
    }
   ],
   "source": [
    "# select buffer amount controls (you don't need to click confirm buffer button, once radio btn for option is clicked, it sets it)\n",
    "notebook_dropdowns.include_buffer()"
   ]
  },
  {
   "cell_type": "code",
   "execution_count": 9,
   "id": "761fff01-30a2-4c2a-9080-043ec5b6eb5c",
   "metadata": {
    "tags": []
   },
   "outputs": [
    {
     "data": {
      "application/vnd.jupyter.widget-view+json": {
       "model_id": "57251f59329f4415ad3c5f55b7e4dea6",
       "version_major": 2,
       "version_minor": 0
      },
      "text/plain": [
       "HTML(value=\" <p style='color:black'>  Buffer distance:  <b style='color:'>  0.1 km (100 meters) </b>  </p>\")"
      ]
     },
     "metadata": {},
     "output_type": "display_data"
    }
   ],
   "source": [
    "# display what the active selected buffer amount is \n",
    "notebook_dropdowns.active_buffer()"
   ]
  },
  {
   "cell_type": "code",
   "execution_count": 25,
   "id": "78820d36-5c49-4b60-8141-175ab78bf6b2",
   "metadata": {
    "tags": []
   },
   "outputs": [
    {
     "data": {
      "application/vnd.jupyter.widget-view+json": {
       "model_id": "660c0427672448c69f0b6bedd6dd3f0a",
       "version_major": 2,
       "version_minor": 0
      },
      "text/plain": [
       "Map(center=[np.float64(52.93250287373505), np.float64(-4.575642140471212)], controls=(ZoomControl(options=['po…"
      ]
     },
     "metadata": {},
     "output_type": "display_data"
    },
    {
     "data": {
      "application/vnd.jupyter.widget-view+json": {
       "model_id": "ad20bbdd312b43cb9544f33d31c1bac6",
       "version_major": 2,
       "version_minor": 0
      },
      "text/plain": [
       "VBox(children=(HTML(value=\"<b>If applied buffer to site selection is good, click  <span style='color:orange'> …"
      ]
     },
     "metadata": {},
     "output_type": "display_data"
    }
   ],
   "source": [
    "#  run the buffer and include selection method and visualize it \n",
    "notebook_dropdowns.buffer_include_selection()"
   ]
  },
  {
   "cell_type": "code",
   "execution_count": 11,
   "id": "1bf8937a-000b-41de-8956-ed683a5c6667",
   "metadata": {
    "tags": []
   },
   "outputs": [
    {
     "data": {
      "application/vnd.jupyter.widget-view+json": {
       "model_id": "a3416f8910654e458d0ae328823ac3b2",
       "version_major": 2,
       "version_minor": 0
      },
      "text/plain": [
       "Map(center=[np.float64(52.93250287373505), np.float64(-4.575642140471212)], controls=(ZoomControl(options=['po…"
      ]
     },
     "metadata": {},
     "output_type": "display_data"
    }
   ],
   "source": [
    "#  vizualize result of applied buffer \n",
    "notebook_dropdowns.visualize_selected_area()"
   ]
  },
  {
   "cell_type": "code",
   "execution_count": null,
   "id": "f780f7f7-57f2-4a78-80d3-988056beb102",
   "metadata": {},
   "outputs": [],
   "source": []
  },
  {
   "cell_type": "markdown",
   "id": "df9a7090-303d-49f3-9aa1-887863e98669",
   "metadata": {},
   "source": [
    "#### F1.2  Buffer excluding Site Selected"
   ]
  },
  {
   "cell_type": "code",
   "execution_count": 12,
   "id": "10c1b103-db8f-4264-a722-fe7bdd0e8d9c",
   "metadata": {
    "tags": []
   },
   "outputs": [
    {
     "data": {
      "application/vnd.jupyter.widget-view+json": {
       "model_id": "806268ce22ea4354a78b8d26e270858d",
       "version_major": 2,
       "version_minor": 0
      },
      "text/plain": [
       "Map(center=[np.float64(52.932502748883856), np.float64(-4.575641985393027)], controls=(ZoomControl(options=['p…"
      ]
     },
     "metadata": {},
     "output_type": "display_data"
    },
    {
     "data": {
      "application/vnd.jupyter.widget-view+json": {
       "model_id": "0dc57372a54b4508afee6a8cf15ddb9d",
       "version_major": 2,
       "version_minor": 0
      },
      "text/plain": [
       "VBox(children=(HTML(value=\"<b>If applied buffer excluding site selection is good, click  <span style='color:or…"
      ]
     },
     "metadata": {},
     "output_type": "display_data"
    }
   ],
   "source": [
    "#  run the buffer and exclude selection method and visualize it \n",
    "notebook_dropdowns.buffer_exclude_selection()"
   ]
  },
  {
   "cell_type": "code",
   "execution_count": 13,
   "id": "b43249c9-e0ba-40df-bf25-4adb26c5bd69",
   "metadata": {
    "tags": []
   },
   "outputs": [
    {
     "data": {
      "application/vnd.jupyter.widget-view+json": {
       "model_id": "8662ce4fb72b40a6a5f896ed65c483bc",
       "version_major": 2,
       "version_minor": 0
      },
      "text/plain": [
       "Map(center=[np.float64(52.932502748883856), np.float64(-4.575641985393027)], controls=(ZoomControl(options=['p…"
      ]
     },
     "metadata": {},
     "output_type": "display_data"
    }
   ],
   "source": [
    "#  visualise what has been selected\n",
    "notebook_dropdowns.visualize_selected_area()\n"
   ]
  },
  {
   "cell_type": "code",
   "execution_count": null,
   "id": "5d1d3d06-1d85-4b23-8b1e-b674a620105e",
   "metadata": {},
   "outputs": [],
   "source": []
  },
  {
   "cell_type": "code",
   "execution_count": 15,
   "id": "6aedd763-508d-4fda-921b-a2a38ac804b4",
   "metadata": {},
   "outputs": [
    {
     "data": {
      "text/html": [
       "<div>\n",
       "<style scoped>\n",
       "    .dataframe tbody tr th:only-of-type {\n",
       "        vertical-align: middle;\n",
       "    }\n",
       "\n",
       "    .dataframe tbody tr th {\n",
       "        vertical-align: top;\n",
       "    }\n",
       "\n",
       "    .dataframe thead th {\n",
       "        text-align: right;\n",
       "    }\n",
       "</style>\n",
       "<table border=\"1\" class=\"dataframe\">\n",
       "  <thead>\n",
       "    <tr style=\"text-align: right;\">\n",
       "      <th></th>\n",
       "      <th>geometry</th>\n",
       "    </tr>\n",
       "  </thead>\n",
       "  <tbody>\n",
       "    <tr>\n",
       "      <th>0</th>\n",
       "      <td>POLYGON ((-4.58353 52.93203, -4.5836 52.93206,...</td>\n",
       "    </tr>\n",
       "  </tbody>\n",
       "</table>\n",
       "</div>"
      ],
      "text/plain": [
       "                                            geometry\n",
       "0  POLYGON ((-4.58353 52.93203, -4.5836 52.93206,..."
      ]
     },
     "execution_count": 15,
     "metadata": {},
     "output_type": "execute_result"
    }
   ],
   "source": [
    "#  view the selected polygon again that is to be used for the analysis\n",
    "selected_polygon = notebook_dropdowns.polygon_selected()\n",
    "selected_polygon"
   ]
  },
  {
   "cell_type": "code",
   "execution_count": null,
   "id": "3e007aba-75db-47c1-bdf7-bf9f42508fe3",
   "metadata": {},
   "outputs": [],
   "source": []
  },
  {
   "cell_type": "markdown",
   "id": "3e461592-a3c1-400d-ba0c-17ea2f24df0d",
   "metadata": {},
   "source": [
    "## G. Extras: "
   ]
  },
  {
   "cell_type": "code",
   "execution_count": null,
   "id": "bcb62bbe-bade-4a89-885a-43de3ceb5040",
   "metadata": {},
   "outputs": [],
   "source": [
    "# if selected area data is in geopandas dataframe form, convert to GeoJson if needed "
   ]
  },
  {
   "cell_type": "code",
   "execution_count": null,
   "id": "c48018be-4074-471f-ad73-be151f288c00",
   "metadata": {
    "tags": []
   },
   "outputs": [],
   "source": [
    "geojson_format_selected_area = notebook_dropdowns.convert_to_geojson(selected_polygon)\n",
    "geojson_format_selected_area"
   ]
  },
  {
   "cell_type": "code",
   "execution_count": null,
   "id": "69bceead-6f7b-42d5-b215-64b41c3e4967",
   "metadata": {},
   "outputs": [],
   "source": []
  },
  {
   "cell_type": "code",
   "execution_count": null,
   "id": "7f3df92c-3c53-4847-b898-4809f17b40df",
   "metadata": {},
   "outputs": [],
   "source": [
    "# if selected area data is in GeoJson  form, convert to  geopandas dataframe if needed "
   ]
  },
  {
   "cell_type": "code",
   "execution_count": null,
   "id": "52fa5cc6-8741-454d-b359-84e790011081",
   "metadata": {
    "tags": []
   },
   "outputs": [],
   "source": [
    "gpdf_format_selected_area = notebook_dropdowns.convert_to_geopandas_df(selected_polygon)\n",
    "gpdf_format_selected_area"
   ]
  },
  {
   "cell_type": "code",
   "execution_count": null,
   "id": "6eaaa0a7-ec2f-4e55-acf3-f3c8a52d89ae",
   "metadata": {},
   "outputs": [],
   "source": []
  }
 ],
 "metadata": {
  "kernelspec": {
   "display_name": "Python 3 (ipykernel)",
   "language": "python",
   "name": "python3"
  },
  "language_info": {
   "codemirror_mode": {
    "name": "ipython",
    "version": 3
   },
   "file_extension": ".py",
   "mimetype": "text/x-python",
   "name": "python",
   "nbconvert_exporter": "python",
   "pygments_lexer": "ipython3",
   "version": "3.11.6"
  }
 },
 "nbformat": 4,
 "nbformat_minor": 5
}
