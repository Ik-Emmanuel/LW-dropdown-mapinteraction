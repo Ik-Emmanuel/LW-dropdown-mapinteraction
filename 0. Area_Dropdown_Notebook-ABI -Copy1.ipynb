{
 "cells": [
  {
   "cell_type": "markdown",
   "id": "0bbf494b-9382-4c43-aaf3-804e68af470c",
   "metadata": {
    "tags": []
   },
   "source": [
    "# Area Dropdown Notebook"
   ]
  },
  {
   "cell_type": "markdown",
   "id": "a88f477b-339d-405c-823e-c207bdadba42",
   "metadata": {},
   "source": [
    "\n"
   ]
  },
  {
   "cell_type": "markdown",
   "id": "948a8ff6-6f8d-4ec9-839c-667521374c8b",
   "metadata": {},
   "source": [
    "*Looking for: \n",
    "- every output from the Area selection needs to have a generic name aka 'boundary'\n",
    "- simplified dropdown selection \n",
    "- Draw an area not working\n",
    "- Get the past and present plots working \n",
    "- Get statistics from each plot*\n",
    "- map at time1 and time2. display in a a singe row of 3. map time1, map time2 AND map showing difference highlighted in red (also show a table of what became what) "
   ]
  },
  {
   "cell_type": "markdown",
   "id": "997def18-3ddd-402c-879b-535324ee5487",
   "metadata": {
    "jp-MarkdownHeadingCollapsed": true,
    "tags": []
   },
   "source": [
    "# 0. Load initial functions"
   ]
  },
  {
   "cell_type": "code",
   "execution_count": null,
   "id": "db66dbc3-5c4c-4bd8-94cf-2eba4810e1e3",
   "metadata": {
    "tags": []
   },
   "outputs": [],
   "source": [
    "import notebook_dropdowns\n",
    "notebook_dropdowns.helper()"
   ]
  },
  {
   "cell_type": "markdown",
   "id": "574ff267-a377-420b-8e55-4f6819a51d54",
   "metadata": {
    "tags": []
   },
   "source": [
    "# 1. AREA selection"
   ]
  },
  {
   "cell_type": "code",
   "execution_count": null,
   "id": "a81b0149-fcbd-4e1d-a270-9585b1c6e02e",
   "metadata": {
    "tags": []
   },
   "outputs": [],
   "source": [
    "# Open dropdowns #\n",
    "polygon_select = notebook_dropdowns.area_selection()"
   ]
  },
  {
   "cell_type": "markdown",
   "id": "50c473e0-29a3-4c43-9c5d-a1af6d26848a",
   "metadata": {},
   "source": [
    "## CAN WE REMOVE THIS STEP? A. Verify the file \n",
    "\n",
    "(Obtain and inspect the selected site its and metadata if it has as a dataframe and assign to a variable)"
   ]
  },
  {
   "cell_type": "code",
   "execution_count": null,
   "id": "a308815d-aaa6-4cbd-98d6-8664913fb293",
   "metadata": {
    "tags": []
   },
   "outputs": [],
   "source": [
    "site_df = notebook_dropdowns.view_selected_polygon(polygon_select)\n",
    "site_df\n",
    "\n",
    "# or just run \"notebook_dropdowns.view_selected_polygon(polygon_select)\"  to view only\n"
   ]
  },
  {
   "cell_type": "markdown",
   "id": "acd12751-17e6-4d11-ad82-25a3ba421e20",
   "metadata": {
    "tags": []
   },
   "source": [
    "## B. Check the site boundary visually and calculate area"
   ]
  },
  {
   "cell_type": "code",
   "execution_count": null,
   "id": "0f9e6795-0189-40b8-a3da-598cfd37d424",
   "metadata": {
    "tags": []
   },
   "outputs": [],
   "source": [
    "#  plot selected vector/polygon to confirm\n",
    "notebook_dropdowns.plot_selected_polygon(polygon_select)\n"
   ]
  },
  {
   "cell_type": "markdown",
   "id": "c0fb4f71-9337-4dfa-bac2-e55ad5a91f97",
   "metadata": {
    "tags": []
   },
   "source": [
    "## C. Visualise on a map and either: SELECT AREA or DRAW AREA if chosen\n",
    "\n",
    "EMMANUEL - in the draw option the circle option does not work it goes to a point.\n",
    "EMMANUEL - Line site selection does not work and carry forward to E (it is not visualised)"
   ]
  },
  {
   "cell_type": "code",
   "execution_count": null,
   "id": "83254198-a0c0-4fd6-a06b-4eff0bdfcb44",
   "metadata": {
    "tags": []
   },
   "outputs": [],
   "source": [
    "#  display map\n",
    "notebook_dropdowns.map_and_select_area(polygon_select)"
   ]
  },
  {
   "cell_type": "markdown",
   "id": "dfa1a0e1-7e4b-4da2-9e97-d2da1ef6cb91",
   "metadata": {},
   "source": [
    "## CAN WE REMOVE THIS? D. Confirm selected area \n",
    "\n",
    "(This method gets selected area as either a geopandas dataframe or a GeoJSON dict of s single site (if site was drawn on map))"
   ]
  },
  {
   "cell_type": "code",
   "execution_count": null,
   "id": "74d411b9-e8e5-482e-a12b-afeeb70424ea",
   "metadata": {
    "tags": []
   },
   "outputs": [],
   "source": [
    "#  display selected area\n",
    "selected_polygon = notebook_dropdowns.polygon_selected()\n",
    "selected_polygon\n"
   ]
  },
  {
   "cell_type": "markdown",
   "id": "2ee49b48-2a4c-4ec9-bea8-3845c894d210",
   "metadata": {
    "tags": []
   },
   "source": [
    "## E.  Visualize the CONFIRMED site which will be taken forward into the notebook\n",
    "\n",
    "- This is the site labelled SITE_AREA \n",
    "- one site has been selected and set , at any point in the notebook site can be visualsed on a map for confirmation "
   ]
  },
  {
   "cell_type": "code",
   "execution_count": null,
   "id": "83e32dd5-fd40-43ef-a076-e3d8b4b5c2c5",
   "metadata": {
    "tags": []
   },
   "outputs": [],
   "source": [
    "#  visualize selected option \n",
    "notebook_dropdowns.visualize_selected_area()"
   ]
  },
  {
   "cell_type": "markdown",
   "id": "d480c655-3249-480d-a475-b155aab653f7",
   "metadata": {},
   "source": [
    "## F. Apply buffer options to selection"
   ]
  },
  {
   "cell_type": "markdown",
   "id": "bb4e4941-ef86-4364-9508-3cfef8ebabef",
   "metadata": {},
   "source": [
    "#### F1.1 Select buffer distance"
   ]
  },
  {
   "cell_type": "code",
   "execution_count": null,
   "id": "e6ecb0dd-02bc-4ebd-a6bf-f4c8a49f1cb0",
   "metadata": {
    "tags": []
   },
   "outputs": [],
   "source": [
    "# select buffer amount controls (you don't need to click confirm buffer button, once radio btn for option is clicked, it sets it)\n",
    "notebook_dropdowns.include_buffer()"
   ]
  },
  {
   "cell_type": "code",
   "execution_count": null,
   "id": "761fff01-30a2-4c2a-9080-043ec5b6eb5c",
   "metadata": {
    "tags": []
   },
   "outputs": [],
   "source": [
    "# display what the active selected buffer amount is \n",
    "notebook_dropdowns.active_buffer()"
   ]
  },
  {
   "cell_type": "markdown",
   "id": "a6dc0736-b883-4d25-b33c-f724a8fe69a6",
   "metadata": {
    "tags": []
   },
   "source": [
    "#### F1.2 CHOOSE AREA TO TAKE FORWARD- \n",
    "- If you would like the total area to be the site + buffer, press confirm. \n",
    "- If you would like to remove the site area from the buffer DO NOT confirm and continue to remove the site "
   ]
  },
  {
   "cell_type": "code",
   "execution_count": null,
   "id": "78820d36-5c49-4b60-8141-175ab78bf6b2",
   "metadata": {
    "tags": []
   },
   "outputs": [],
   "source": [
    "#  run the buffer and include selection method and visualize it \n",
    "notebook_dropdowns.buffer_include_selection()"
   ]
  },
  {
   "cell_type": "markdown",
   "id": "df9a7090-303d-49f3-9aa1-887863e98669",
   "metadata": {},
   "source": [
    "#### F1.2  Remove selected site if required or if not skip to end of section to confirm"
   ]
  },
  {
   "cell_type": "code",
   "execution_count": null,
   "id": "10c1b103-db8f-4264-a722-fe7bdd0e8d9c",
   "metadata": {
    "tags": []
   },
   "outputs": [],
   "source": [
    "#  run the buffer and exclude selection method and visualize it \n",
    "notebook_dropdowns.buffer_exclude_selection()"
   ]
  },
  {
   "cell_type": "markdown",
   "id": "0c4accde-b807-4c4c-b45a-136cf5ce765b",
   "metadata": {},
   "source": [
    "## F.  Visualize the CONFIRMED site which will be taken forward into the notebook\n",
    "\n",
    "- This is the site labelled SITE_AREA \n",
    "- one site has been selected and set , at any point in the notebook site can be visualsed on a map for confirmation"
   ]
  },
  {
   "cell_type": "code",
   "execution_count": null,
   "id": "b43249c9-e0ba-40df-bf25-4adb26c5bd69",
   "metadata": {
    "tags": []
   },
   "outputs": [],
   "source": [
    "#  visualise what has been selected\n",
    "notebook_dropdowns.visualize_selected_area()"
   ]
  },
  {
   "cell_type": "code",
   "execution_count": null,
   "id": "c337cdd2-ad94-488a-a3f5-1edcc1911c0d",
   "metadata": {},
   "outputs": [],
   "source": []
  },
  {
   "cell_type": "markdown",
   "id": "3e461592-a3c1-400d-ba0c-17ea2f24df0d",
   "metadata": {},
   "source": [
    "## G. Extras: "
   ]
  },
  {
   "cell_type": "code",
   "execution_count": null,
   "id": "bcb62bbe-bade-4a89-885a-43de3ceb5040",
   "metadata": {},
   "outputs": [],
   "source": [
    "# if selected area data is in geopandas dataframe form, convert to GeoJson if needed "
   ]
  },
  {
   "cell_type": "code",
   "execution_count": null,
   "id": "c48018be-4074-471f-ad73-be151f288c00",
   "metadata": {
    "tags": []
   },
   "outputs": [],
   "source": [
    "geojson_format_selected_area = notebook_dropdowns.convert_to_geojson(selected_polygon)\n",
    "geojson_format_selected_area"
   ]
  },
  {
   "cell_type": "code",
   "execution_count": null,
   "id": "69bceead-6f7b-42d5-b215-64b41c3e4967",
   "metadata": {},
   "outputs": [],
   "source": []
  },
  {
   "cell_type": "code",
   "execution_count": null,
   "id": "7f3df92c-3c53-4847-b898-4809f17b40df",
   "metadata": {},
   "outputs": [],
   "source": [
    "# if selected area data is in GeoJson  form, convert to  geopandas dataframe if needed "
   ]
  },
  {
   "cell_type": "code",
   "execution_count": null,
   "id": "52fa5cc6-8741-454d-b359-84e790011081",
   "metadata": {
    "tags": []
   },
   "outputs": [],
   "source": [
    "gpdf_format_selected_area = notebook_dropdowns.convert_to_geopandas_df(selected_polygon)\n",
    "gpdf_format_selected_area"
   ]
  },
  {
   "cell_type": "code",
   "execution_count": null,
   "id": "6eaaa0a7-ec2f-4e55-acf3-f3c8a52d89ae",
   "metadata": {},
   "outputs": [],
   "source": []
  }
 ],
 "metadata": {
  "kernelspec": {
   "display_name": "Python 3 (ipykernel)",
   "language": "python",
   "name": "python3"
  },
  "language_info": {
   "codemirror_mode": {
    "name": "ipython",
    "version": 3
   },
   "file_extension": ".py",
   "mimetype": "text/x-python",
   "name": "python",
   "nbconvert_exporter": "python",
   "pygments_lexer": "ipython3",
   "version": "3.11.6"
  }
 },
 "nbformat": 4,
 "nbformat_minor": 5
}
